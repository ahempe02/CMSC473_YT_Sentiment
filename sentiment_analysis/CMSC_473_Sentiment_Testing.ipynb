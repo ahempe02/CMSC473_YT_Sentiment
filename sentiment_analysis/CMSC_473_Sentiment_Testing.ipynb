{
  "nbformat": 4,
  "nbformat_minor": 0,
  "metadata": {
    "colab": {
      "provenance": [],
      "gpuType": "T4"
    },
    "kernelspec": {
      "name": "python3",
      "display_name": "Python 3"
    },
    "language_info": {
      "name": "python"
    },
    "accelerator": "GPU"
  },
  "cells": [
    {
      "cell_type": "code",
      "source": [
        "!pip install datasets transformers huggingface_hub\n",
        "!apt-get install git-lfs\n",
        "!pip install git+https://github.com/huggingface/accelerate\n",
        "!pip install vaderSentiment\n"
      ],
      "metadata": {
        "colab": {
          "base_uri": "https://localhost:8080/"
        },
        "id": "NzuUPRT0b1kD",
        "outputId": "e4dc4f88-2bad-4c90-8746-bb24991f82f9"
      },
      "execution_count": null,
      "outputs": [
        {
          "output_type": "stream",
          "name": "stdout",
          "text": [
            "Requirement already satisfied: datasets in /usr/local/lib/python3.10/dist-packages (2.19.1)\n",
            "Requirement already satisfied: transformers in /usr/local/lib/python3.10/dist-packages (4.40.2)\n",
            "Requirement already satisfied: huggingface_hub in /usr/local/lib/python3.10/dist-packages (0.23.0)\n",
            "Requirement already satisfied: filelock in /usr/local/lib/python3.10/dist-packages (from datasets) (3.14.0)\n",
            "Requirement already satisfied: numpy>=1.17 in /usr/local/lib/python3.10/dist-packages (from datasets) (1.25.2)\n",
            "Requirement already satisfied: pyarrow>=12.0.0 in /usr/local/lib/python3.10/dist-packages (from datasets) (14.0.2)\n",
            "Requirement already satisfied: pyarrow-hotfix in /usr/local/lib/python3.10/dist-packages (from datasets) (0.6)\n",
            "Requirement already satisfied: dill<0.3.9,>=0.3.0 in /usr/local/lib/python3.10/dist-packages (from datasets) (0.3.8)\n",
            "Requirement already satisfied: pandas in /usr/local/lib/python3.10/dist-packages (from datasets) (2.0.3)\n",
            "Requirement already satisfied: requests>=2.19.0 in /usr/local/lib/python3.10/dist-packages (from datasets) (2.31.0)\n",
            "Requirement already satisfied: tqdm>=4.62.1 in /usr/local/lib/python3.10/dist-packages (from datasets) (4.66.4)\n",
            "Requirement already satisfied: xxhash in /usr/local/lib/python3.10/dist-packages (from datasets) (3.4.1)\n",
            "Requirement already satisfied: multiprocess in /usr/local/lib/python3.10/dist-packages (from datasets) (0.70.16)\n",
            "Requirement already satisfied: fsspec[http]<=2024.3.1,>=2023.1.0 in /usr/local/lib/python3.10/dist-packages (from datasets) (2023.6.0)\n",
            "Requirement already satisfied: aiohttp in /usr/local/lib/python3.10/dist-packages (from datasets) (3.9.5)\n",
            "Requirement already satisfied: packaging in /usr/local/lib/python3.10/dist-packages (from datasets) (24.0)\n",
            "Requirement already satisfied: pyyaml>=5.1 in /usr/local/lib/python3.10/dist-packages (from datasets) (6.0.1)\n",
            "Requirement already satisfied: regex!=2019.12.17 in /usr/local/lib/python3.10/dist-packages (from transformers) (2023.12.25)\n",
            "Requirement already satisfied: tokenizers<0.20,>=0.19 in /usr/local/lib/python3.10/dist-packages (from transformers) (0.19.1)\n",
            "Requirement already satisfied: safetensors>=0.4.1 in /usr/local/lib/python3.10/dist-packages (from transformers) (0.4.3)\n",
            "Requirement already satisfied: typing-extensions>=3.7.4.3 in /usr/local/lib/python3.10/dist-packages (from huggingface_hub) (4.11.0)\n",
            "Requirement already satisfied: aiosignal>=1.1.2 in /usr/local/lib/python3.10/dist-packages (from aiohttp->datasets) (1.3.1)\n",
            "Requirement already satisfied: attrs>=17.3.0 in /usr/local/lib/python3.10/dist-packages (from aiohttp->datasets) (23.2.0)\n",
            "Requirement already satisfied: frozenlist>=1.1.1 in /usr/local/lib/python3.10/dist-packages (from aiohttp->datasets) (1.4.1)\n",
            "Requirement already satisfied: multidict<7.0,>=4.5 in /usr/local/lib/python3.10/dist-packages (from aiohttp->datasets) (6.0.5)\n",
            "Requirement already satisfied: yarl<2.0,>=1.0 in /usr/local/lib/python3.10/dist-packages (from aiohttp->datasets) (1.9.4)\n",
            "Requirement already satisfied: async-timeout<5.0,>=4.0 in /usr/local/lib/python3.10/dist-packages (from aiohttp->datasets) (4.0.3)\n",
            "Requirement already satisfied: charset-normalizer<4,>=2 in /usr/local/lib/python3.10/dist-packages (from requests>=2.19.0->datasets) (3.3.2)\n",
            "Requirement already satisfied: idna<4,>=2.5 in /usr/local/lib/python3.10/dist-packages (from requests>=2.19.0->datasets) (3.7)\n",
            "Requirement already satisfied: urllib3<3,>=1.21.1 in /usr/local/lib/python3.10/dist-packages (from requests>=2.19.0->datasets) (2.0.7)\n",
            "Requirement already satisfied: certifi>=2017.4.17 in /usr/local/lib/python3.10/dist-packages (from requests>=2.19.0->datasets) (2024.2.2)\n",
            "Requirement already satisfied: python-dateutil>=2.8.2 in /usr/local/lib/python3.10/dist-packages (from pandas->datasets) (2.8.2)\n",
            "Requirement already satisfied: pytz>=2020.1 in /usr/local/lib/python3.10/dist-packages (from pandas->datasets) (2023.4)\n",
            "Requirement already satisfied: tzdata>=2022.1 in /usr/local/lib/python3.10/dist-packages (from pandas->datasets) (2024.1)\n",
            "Requirement already satisfied: six>=1.5 in /usr/local/lib/python3.10/dist-packages (from python-dateutil>=2.8.2->pandas->datasets) (1.16.0)\n",
            "Reading package lists... Done\n",
            "Building dependency tree... Done\n",
            "Reading state information... Done\n",
            "git-lfs is already the newest version (3.0.2-1ubuntu0.2).\n",
            "0 upgraded, 0 newly installed, 0 to remove and 45 not upgraded.\n",
            "Collecting git+https://github.com/huggingface/accelerate\n",
            "  Cloning https://github.com/huggingface/accelerate to /tmp/pip-req-build-361jxuw9\n",
            "  Running command git clone --filter=blob:none --quiet https://github.com/huggingface/accelerate /tmp/pip-req-build-361jxuw9\n",
            "  Resolved https://github.com/huggingface/accelerate to commit abce3604f0de71cb947d6cf653c51b3e19f65162\n",
            "  Installing build dependencies ... \u001b[?25l\u001b[?25hdone\n",
            "  Getting requirements to build wheel ... \u001b[?25l\u001b[?25hdone\n",
            "  Preparing metadata (pyproject.toml) ... \u001b[?25l\u001b[?25hdone\n",
            "Requirement already satisfied: numpy>=1.17 in /usr/local/lib/python3.10/dist-packages (from accelerate==0.31.0.dev0) (1.25.2)\n",
            "Requirement already satisfied: packaging>=20.0 in /usr/local/lib/python3.10/dist-packages (from accelerate==0.31.0.dev0) (24.0)\n",
            "Requirement already satisfied: psutil in /usr/local/lib/python3.10/dist-packages (from accelerate==0.31.0.dev0) (5.9.5)\n",
            "Requirement already satisfied: pyyaml in /usr/local/lib/python3.10/dist-packages (from accelerate==0.31.0.dev0) (6.0.1)\n",
            "Requirement already satisfied: torch>=1.10.0 in /usr/local/lib/python3.10/dist-packages (from accelerate==0.31.0.dev0) (2.2.1+cu121)\n",
            "Requirement already satisfied: huggingface-hub in /usr/local/lib/python3.10/dist-packages (from accelerate==0.31.0.dev0) (0.23.0)\n",
            "Requirement already satisfied: safetensors>=0.3.1 in /usr/local/lib/python3.10/dist-packages (from accelerate==0.31.0.dev0) (0.4.3)\n",
            "Requirement already satisfied: filelock in /usr/local/lib/python3.10/dist-packages (from torch>=1.10.0->accelerate==0.31.0.dev0) (3.14.0)\n",
            "Requirement already satisfied: typing-extensions>=4.8.0 in /usr/local/lib/python3.10/dist-packages (from torch>=1.10.0->accelerate==0.31.0.dev0) (4.11.0)\n",
            "Requirement already satisfied: sympy in /usr/local/lib/python3.10/dist-packages (from torch>=1.10.0->accelerate==0.31.0.dev0) (1.12)\n",
            "Requirement already satisfied: networkx in /usr/local/lib/python3.10/dist-packages (from torch>=1.10.0->accelerate==0.31.0.dev0) (3.3)\n",
            "Requirement already satisfied: jinja2 in /usr/local/lib/python3.10/dist-packages (from torch>=1.10.0->accelerate==0.31.0.dev0) (3.1.4)\n",
            "Requirement already satisfied: fsspec in /usr/local/lib/python3.10/dist-packages (from torch>=1.10.0->accelerate==0.31.0.dev0) (2023.6.0)\n",
            "Requirement already satisfied: nvidia-cuda-nvrtc-cu12==12.1.105 in /usr/local/lib/python3.10/dist-packages (from torch>=1.10.0->accelerate==0.31.0.dev0) (12.1.105)\n",
            "Requirement already satisfied: nvidia-cuda-runtime-cu12==12.1.105 in /usr/local/lib/python3.10/dist-packages (from torch>=1.10.0->accelerate==0.31.0.dev0) (12.1.105)\n",
            "Requirement already satisfied: nvidia-cuda-cupti-cu12==12.1.105 in /usr/local/lib/python3.10/dist-packages (from torch>=1.10.0->accelerate==0.31.0.dev0) (12.1.105)\n",
            "Requirement already satisfied: nvidia-cudnn-cu12==8.9.2.26 in /usr/local/lib/python3.10/dist-packages (from torch>=1.10.0->accelerate==0.31.0.dev0) (8.9.2.26)\n",
            "Requirement already satisfied: nvidia-cublas-cu12==12.1.3.1 in /usr/local/lib/python3.10/dist-packages (from torch>=1.10.0->accelerate==0.31.0.dev0) (12.1.3.1)\n",
            "Requirement already satisfied: nvidia-cufft-cu12==11.0.2.54 in /usr/local/lib/python3.10/dist-packages (from torch>=1.10.0->accelerate==0.31.0.dev0) (11.0.2.54)\n",
            "Requirement already satisfied: nvidia-curand-cu12==10.3.2.106 in /usr/local/lib/python3.10/dist-packages (from torch>=1.10.0->accelerate==0.31.0.dev0) (10.3.2.106)\n",
            "Requirement already satisfied: nvidia-cusolver-cu12==11.4.5.107 in /usr/local/lib/python3.10/dist-packages (from torch>=1.10.0->accelerate==0.31.0.dev0) (11.4.5.107)\n",
            "Requirement already satisfied: nvidia-cusparse-cu12==12.1.0.106 in /usr/local/lib/python3.10/dist-packages (from torch>=1.10.0->accelerate==0.31.0.dev0) (12.1.0.106)\n",
            "Requirement already satisfied: nvidia-nccl-cu12==2.19.3 in /usr/local/lib/python3.10/dist-packages (from torch>=1.10.0->accelerate==0.31.0.dev0) (2.19.3)\n",
            "Requirement already satisfied: nvidia-nvtx-cu12==12.1.105 in /usr/local/lib/python3.10/dist-packages (from torch>=1.10.0->accelerate==0.31.0.dev0) (12.1.105)\n",
            "Requirement already satisfied: triton==2.2.0 in /usr/local/lib/python3.10/dist-packages (from torch>=1.10.0->accelerate==0.31.0.dev0) (2.2.0)\n",
            "Requirement already satisfied: nvidia-nvjitlink-cu12 in /usr/local/lib/python3.10/dist-packages (from nvidia-cusolver-cu12==11.4.5.107->torch>=1.10.0->accelerate==0.31.0.dev0) (12.4.127)\n",
            "Requirement already satisfied: requests in /usr/local/lib/python3.10/dist-packages (from huggingface-hub->accelerate==0.31.0.dev0) (2.31.0)\n",
            "Requirement already satisfied: tqdm>=4.42.1 in /usr/local/lib/python3.10/dist-packages (from huggingface-hub->accelerate==0.31.0.dev0) (4.66.4)\n",
            "Requirement already satisfied: MarkupSafe>=2.0 in /usr/local/lib/python3.10/dist-packages (from jinja2->torch>=1.10.0->accelerate==0.31.0.dev0) (2.1.5)\n",
            "Requirement already satisfied: charset-normalizer<4,>=2 in /usr/local/lib/python3.10/dist-packages (from requests->huggingface-hub->accelerate==0.31.0.dev0) (3.3.2)\n",
            "Requirement already satisfied: idna<4,>=2.5 in /usr/local/lib/python3.10/dist-packages (from requests->huggingface-hub->accelerate==0.31.0.dev0) (3.7)\n",
            "Requirement already satisfied: urllib3<3,>=1.21.1 in /usr/local/lib/python3.10/dist-packages (from requests->huggingface-hub->accelerate==0.31.0.dev0) (2.0.7)\n",
            "Requirement already satisfied: certifi>=2017.4.17 in /usr/local/lib/python3.10/dist-packages (from requests->huggingface-hub->accelerate==0.31.0.dev0) (2024.2.2)\n",
            "Requirement already satisfied: mpmath>=0.19 in /usr/local/lib/python3.10/dist-packages (from sympy->torch>=1.10.0->accelerate==0.31.0.dev0) (1.3.0)\n",
            "Requirement already satisfied: vaderSentiment in /usr/local/lib/python3.10/dist-packages (3.3.2)\n",
            "Requirement already satisfied: requests in /usr/local/lib/python3.10/dist-packages (from vaderSentiment) (2.31.0)\n",
            "Requirement already satisfied: charset-normalizer<4,>=2 in /usr/local/lib/python3.10/dist-packages (from requests->vaderSentiment) (3.3.2)\n",
            "Requirement already satisfied: idna<4,>=2.5 in /usr/local/lib/python3.10/dist-packages (from requests->vaderSentiment) (3.7)\n",
            "Requirement already satisfied: urllib3<3,>=1.21.1 in /usr/local/lib/python3.10/dist-packages (from requests->vaderSentiment) (2.0.7)\n",
            "Requirement already satisfied: certifi>=2017.4.17 in /usr/local/lib/python3.10/dist-packages (from requests->vaderSentiment) (2024.2.2)\n"
          ]
        }
      ]
    },
    {
      "cell_type": "code",
      "execution_count": null,
      "metadata": {
        "colab": {
          "base_uri": "https://localhost:8080/"
        },
        "id": "Sxa1N9-6W_Uo",
        "outputId": "b988ec97-0ed6-44bc-8a3e-c473b4a5993c"
      },
      "outputs": [
        {
          "output_type": "stream",
          "name": "stderr",
          "text": [
            "/usr/local/lib/python3.10/dist-packages/huggingface_hub/file_download.py:1132: FutureWarning: `resume_download` is deprecated and will be removed in version 1.0.0. Downloads always resume when possible. If you want to force a new download, use `force_download=True`.\n",
            "  warnings.warn(\n",
            "/usr/local/lib/python3.10/dist-packages/huggingface_hub/utils/_token.py:89: UserWarning: \n",
            "The secret `HF_TOKEN` does not exist in your Colab secrets.\n",
            "To authenticate with the Hugging Face Hub, create a token in your settings tab (https://huggingface.co/settings/tokens), set it as secret in your Google Colab and restart your session.\n",
            "You will be able to reuse this secret in all of your notebooks.\n",
            "Please note that authentication is recommended but still optional to access public models or datasets.\n",
            "  warnings.warn(\n"
          ]
        }
      ],
      "source": [
        "# Load model directly\n",
        "from transformers import AutoTokenizer, AutoModelForSequenceClassification\n",
        "\n",
        "tokenizer = AutoTokenizer.from_pretrained(\"joshu710/CMSC473\")\n",
        "model = AutoModelForSequenceClassification.from_pretrained(\"joshu710/CMSC473\")"
      ]
    },
    {
      "cell_type": "code",
      "source": [
        "from datasets import load_dataset, concatenate_datasets\n",
        "\n",
        "dataset_en = load_dataset(\"tyqiangz/multilingual-sentiments\",\"english\")\n",
        "dataset_jp = load_dataset(\"tyqiangz/multilingual-sentiments\",\"japanese\")\n",
        "dataset_sp = load_dataset(\"tyqiangz/multilingual-sentiments\",\"spanish\")\n",
        "dataset_cn = load_dataset(\"tyqiangz/multilingual-sentiments\",\"chinese\")\n"
      ],
      "metadata": {
        "id": "XgmbDKaHaZBE"
      },
      "execution_count": null,
      "outputs": []
    },
    {
      "cell_type": "code",
      "source": [
        "en_train_dataset = dataset_en[\"train\"].shuffle(seed=42)\n",
        "en_test_dataset = dataset_en[\"test\"].shuffle(seed=42)\n",
        "\n",
        "jp_train_dataset = dataset_jp[\"train\"].shuffle(seed=42).select([i for i in list(range(3000))])\n",
        "jp_test_dataset = dataset_jp[\"test\"].shuffle(seed=42).select([i for i in list(range(1000))])\n",
        "\n",
        "sp_train_dataset = dataset_sp[\"train\"].shuffle(seed=42)\n",
        "sp_test_dataset = dataset_sp[\"test\"].shuffle(seed=42)\n",
        "\n",
        "\n",
        "cn_train_dataset = dataset_cn[\"train\"].shuffle(seed=42).select([i for i in list(range(3000))])\n",
        "cn_test_dataset = dataset_cn[\"test\"].shuffle(seed=42).select([i for i in list(range(1000))])"
      ],
      "metadata": {
        "id": "wIFy9YO-a9IV"
      },
      "execution_count": null,
      "outputs": []
    },
    {
      "cell_type": "code",
      "source": [
        "def preprocess_function(examples):\n",
        "   return tokenizer(examples[\"text\"], truncation=True)\n",
        "\n",
        "en_tokenized_train = en_train_dataset.map(preprocess_function, batched=True)\n",
        "en_tokenized_test = en_test_dataset.map(preprocess_function, batched=True)\n",
        "\n",
        "\n",
        "jp_tokenized_train = jp_train_dataset.map(preprocess_function, batched=True)\n",
        "jp_tokenized_test = jp_test_dataset.map(preprocess_function, batched=True)\n",
        "\n",
        "\n",
        "\n",
        "sp_tokenized_train = sp_train_dataset.map(preprocess_function, batched=True)\n",
        "sp_tokenized_test = sp_test_dataset.map(preprocess_function, batched=True)\n",
        "\n",
        "\n",
        "cn_tokenized_train = cn_train_dataset.map(preprocess_function, batched=True)\n",
        "cn_tokenized_test = cn_test_dataset.map(preprocess_function, batched=True)"
      ],
      "metadata": {
        "id": "E0vqwpfibCBC"
      },
      "execution_count": null,
      "outputs": []
    },
    {
      "cell_type": "code",
      "source": [
        "from transformers import DataCollatorWithPadding\n",
        "data_collator = DataCollatorWithPadding(tokenizer=tokenizer)\n"
      ],
      "metadata": {
        "id": "IovCG8hjbG5U"
      },
      "execution_count": null,
      "outputs": []
    },
    {
      "cell_type": "code",
      "source": [],
      "metadata": {
        "id": "-65esci2bIR-"
      },
      "execution_count": null,
      "outputs": []
    },
    {
      "cell_type": "code",
      "source": [
        "import numpy as np\n",
        "from datasets import load_metric\n",
        "\n",
        "def compute_metrics(eval_pred):\n",
        "   load_accuracy = load_metric(\"accuracy\")\n",
        "   load_f1 = load_metric(\"f1\")\n",
        "\n",
        "   logits, labels = eval_pred\n",
        "   predictions = np.argmax(logits, axis=-1)\n",
        "   accuracy = load_accuracy.compute(predictions=predictions, references=labels)[\"accuracy\"]\n",
        "   f1 = load_f1.compute(predictions=predictions, references=labels, average=\"macro\")[\"f1\"]\n",
        "   return {\"accuracy\": accuracy, \"f1\": f1}"
      ],
      "metadata": {
        "id": "X1Zinl3hbL1M"
      },
      "execution_count": null,
      "outputs": []
    },
    {
      "cell_type": "code",
      "source": [
        "from transformers import TrainingArguments, Trainer\n",
        "from collections import Counter\n",
        "from sklearn.metrics import f1_score, accuracy_score\n",
        "repo_name = \"CMSC473\"\n",
        "\n",
        "training_args = TrainingArguments(\n",
        "   output_dir=repo_name,\n",
        "   learning_rate=2e-5,\n",
        "   per_device_train_batch_size=16,\n",
        "   per_device_eval_batch_size=16,\n",
        "   num_train_epochs=2,\n",
        "   weight_decay=0.01,\n",
        "   save_strategy=\"epoch\",\n",
        "   evaluation_strategy=\"epoch\",\n",
        "   load_best_model_at_end=True,\n",
        ")"
      ],
      "metadata": {
        "id": "nJeRAfJpbSrN"
      },
      "execution_count": null,
      "outputs": []
    },
    {
      "cell_type": "code",
      "source": [
        "from vaderSentiment.vaderSentiment import SentimentIntensityAnalyzer\n",
        "\n",
        "\n",
        "trainer = Trainer(\n",
        "   model=model,\n",
        "   args=training_args,\n",
        "   train_dataset=en_tokenized_train,\n",
        "   eval_dataset=en_tokenized_test,\n",
        "   tokenizer=tokenizer,\n",
        "   data_collator=data_collator,\n",
        "   compute_metrics=compute_metrics,\n",
        ")\n",
        "trainer.evaluate()\n",
        "\n",
        "\n",
        "\n",
        "\n",
        "\n",
        "\n"
      ],
      "metadata": {
        "colab": {
          "base_uri": "https://localhost:8080/",
          "height": 343
        },
        "id": "OT0pd9O_bUNV",
        "outputId": "763429d7-9227-48de-b6f4-efc9a7f5b86a"
      },
      "execution_count": null,
      "outputs": [
        {
          "output_type": "display_data",
          "data": {
            "text/plain": [
              "<IPython.core.display.HTML object>"
            ],
            "text/html": [
              "\n",
              "    <div>\n",
              "      \n",
              "      <progress value='55' max='55' style='width:300px; height:20px; vertical-align: middle;'></progress>\n",
              "      [55/55 00:02]\n",
              "    </div>\n",
              "    "
            ]
          },
          "metadata": {}
        },
        {
          "output_type": "stream",
          "name": "stderr",
          "text": [
            "<ipython-input-7-47c814eb7349>:5: FutureWarning: load_metric is deprecated and will be removed in the next major version of datasets. Use 'evaluate.load' instead, from the new library 🤗 Evaluate: https://huggingface.co/docs/evaluate\n",
            "  load_accuracy = load_metric(\"accuracy\")\n",
            "/usr/local/lib/python3.10/dist-packages/datasets/load.py:759: FutureWarning: The repository for accuracy contains custom code which must be executed to correctly load the metric. You can inspect the repository content at https://raw.githubusercontent.com/huggingface/datasets/2.19.1/metrics/accuracy/accuracy.py\n",
            "You can avoid this message in future by passing the argument `trust_remote_code=True`.\n",
            "Passing `trust_remote_code=True` will be mandatory to load this metric from the next major release of `datasets`.\n",
            "  warnings.warn(\n",
            "/usr/local/lib/python3.10/dist-packages/datasets/load.py:759: FutureWarning: The repository for f1 contains custom code which must be executed to correctly load the metric. You can inspect the repository content at https://raw.githubusercontent.com/huggingface/datasets/2.19.1/metrics/f1/f1.py\n",
            "You can avoid this message in future by passing the argument `trust_remote_code=True`.\n",
            "Passing `trust_remote_code=True` will be mandatory to load this metric from the next major release of `datasets`.\n",
            "  warnings.warn(\n"
          ]
        },
        {
          "output_type": "execute_result",
          "data": {
            "text/plain": [
              "{'eval_loss': 0.7144548296928406,\n",
              " 'eval_accuracy': 0.6770114942528735,\n",
              " 'eval_f1': 0.6695419855265502,\n",
              " 'eval_runtime': 5.6114,\n",
              " 'eval_samples_per_second': 155.042,\n",
              " 'eval_steps_per_second': 9.802}"
            ]
          },
          "metadata": {},
          "execution_count": 9
        }
      ]
    },
    {
      "cell_type": "code",
      "source": [
        "predictions = []\n",
        "\n",
        "for sent in en_tokenized_test['text']:\n",
        "  sid_obj = SentimentIntensityAnalyzer()\n",
        "  sentiment_dict = sid_obj.polarity_scores(sent)\n",
        "  if sentiment_dict['compound'] >= 0.05:\n",
        "    predictions.append(0)\n",
        "  elif sentiment_dict['compound'] <= - 0.05:\n",
        "    predictions.append(2)\n",
        "  else:\n",
        "    predictions.append(1)\n",
        "\n",
        "print(predictions)\n",
        "correct = en_tokenized_test['label']\n",
        "print(correct)\n",
        "accuracy = accuracy_score(correct,predictions)\n",
        "f1_macro = f1_score(correct, predictions, average='macro')\n",
        "f1_micro = f1_score(correct, predictions, average='micro')\n",
        "\n",
        "print(\"Accuracy:\", accuracy)\n",
        "print(\"Macro F1:\", f1_macro)\n",
        "print(\"Micro F1:\", f1_macro)\n",
        "\n",
        "\n",
        "\n"
      ],
      "metadata": {
        "colab": {
          "base_uri": "https://localhost:8080/"
        },
        "id": "7Vw8rPmOj9EV",
        "outputId": "f8539f96-9895-4018-a672-f1fad527d95d"
      },
      "execution_count": null,
      "outputs": [
        {
          "output_type": "stream",
          "name": "stdout",
          "text": [
            "[0, 1, 2, 0, 2, 2, 0, 2, 1, 1, 0, 0, 1, 0, 1, 2, 0, 0, 0, 0, 0, 0, 0, 0, 0, 1, 1, 0, 0, 2, 1, 2, 1, 0, 0, 1, 0, 2, 2, 0, 0, 0, 0, 2, 2, 2, 2, 2, 2, 1, 2, 1, 1, 0, 2, 0, 2, 1, 2, 2, 2, 0, 0, 1, 2, 1, 0, 0, 0, 2, 2, 0, 2, 1, 1, 0, 1, 1, 1, 0, 1, 0, 0, 2, 2, 1, 2, 0, 0, 0, 1, 1, 0, 2, 0, 0, 0, 0, 0, 1, 1, 1, 0, 2, 1, 1, 2, 1, 2, 2, 0, 1, 1, 0, 0, 1, 1, 2, 0, 2, 0, 2, 0, 0, 2, 2, 0, 2, 0, 0, 1, 1, 0, 0, 0, 1, 2, 0, 1, 2, 1, 1, 0, 0, 0, 1, 1, 2, 0, 1, 0, 0, 0, 0, 1, 1, 1, 0, 1, 2, 1, 0, 0, 1, 0, 0, 1, 0, 0, 1, 2, 0, 0, 0, 0, 0, 1, 0, 1, 0, 1, 2, 2, 0, 1, 0, 0, 0, 0, 1, 1, 0, 0, 2, 2, 2, 0, 0, 0, 2, 1, 2, 0, 0, 0, 0, 2, 2, 0, 0, 1, 1, 0, 0, 2, 1, 2, 0, 0, 2, 0, 0, 1, 0, 1, 0, 2, 0, 0, 0, 1, 0, 0, 0, 0, 0, 1, 2, 0, 2, 1, 2, 2, 2, 1, 0, 1, 0, 0, 0, 2, 0, 2, 1, 0, 1, 0, 0, 2, 2, 1, 2, 1, 0, 1, 1, 0, 1, 0, 0, 1, 0, 2, 2, 0, 1, 0, 1, 0, 2, 2, 0, 2, 0, 0, 0, 1, 0, 2, 1, 0, 0, 1, 0, 2, 0, 1, 2, 2, 2, 0, 0, 0, 1, 2, 0, 1, 1, 1, 2, 1, 0, 0, 1, 0, 2, 2, 0, 0, 1, 2, 0, 0, 0, 2, 2, 1, 0, 0, 0, 0, 1, 1, 2, 0, 2, 0, 0, 0, 1, 1, 2, 2, 1, 2, 2, 1, 1, 2, 0, 2, 1, 2, 2, 2, 0, 2, 1, 2, 1, 2, 1, 0, 0, 1, 0, 0, 2, 2, 1, 1, 2, 2, 1, 2, 0, 0, 2, 0, 1, 1, 0, 1, 2, 1, 0, 0, 2, 1, 2, 2, 1, 0, 0, 0, 1, 1, 1, 0, 1, 0, 0, 1, 0, 0, 0, 1, 0, 1, 0, 1, 2, 0, 0, 2, 0, 0, 2, 2, 1, 2, 1, 0, 2, 1, 0, 0, 0, 2, 1, 0, 2, 0, 0, 0, 0, 0, 2, 0, 0, 1, 1, 0, 2, 1, 0, 2, 2, 0, 2, 2, 1, 1, 1, 0, 1, 2, 2, 2, 0, 0, 1, 2, 2, 1, 0, 0, 2, 0, 0, 0, 1, 0, 2, 0, 1, 0, 0, 1, 2, 1, 0, 0, 1, 1, 1, 1, 0, 0, 2, 1, 0, 0, 1, 2, 0, 1, 1, 0, 0, 0, 1, 2, 0, 2, 1, 2, 0, 0, 1, 0, 0, 2, 0, 0, 1, 1, 0, 2, 0, 1, 0, 2, 1, 1, 0, 2, 1, 2, 2, 0, 0, 2, 2, 1, 2, 0, 0, 0, 0, 1, 0, 0, 0, 1, 0, 1, 0, 0, 1, 1, 1, 1, 1, 1, 0, 1, 0, 0, 0, 2, 0, 2, 2, 0, 0, 0, 1, 2, 2, 0, 1, 0, 2, 1, 2, 1, 2, 0, 0, 0, 1, 2, 2, 1, 2, 2, 2, 1, 0, 0, 1, 0, 0, 0, 0, 1, 2, 0, 2, 2, 1, 1, 2, 0, 2, 0, 0, 0, 1, 1, 1, 0, 0, 1, 0, 2, 1, 1, 0, 0, 1, 0, 2, 1, 0, 2, 0, 1, 0, 0, 0, 2, 0, 0, 2, 0, 0, 1, 1, 1, 1, 0, 2, 1, 1, 0, 1, 2, 1, 1, 2, 2, 0, 2, 2, 0, 0, 1, 0, 1, 1, 1, 2, 1, 0, 2, 0, 0, 1, 2, 2, 0, 0, 1, 1, 0, 0, 0, 1, 1, 0, 0, 0, 1, 2, 0, 0, 0, 1, 0, 1, 1, 0, 0, 0, 2, 0, 2, 0, 0, 1, 2, 0, 1, 2, 1, 2, 0, 2, 1, 1, 1, 2, 2, 0, 2, 1, 2, 0, 1, 2, 2, 2, 2, 1, 1, 2, 0, 0, 1, 2, 1, 0, 2, 2, 1, 2, 2, 0, 0, 2, 2, 2, 2, 2, 0, 0, 0, 0, 0, 0, 2, 1, 0, 1, 0, 2, 0, 2, 0, 2, 1, 2, 0, 2, 0, 0, 1, 0, 0, 1, 2, 0, 0, 0, 1, 1, 2, 2, 1, 0, 1, 0, 0, 2, 0, 0, 1, 0, 1, 0, 1, 0, 0, 0, 1, 2, 0, 2, 2, 2, 2, 1, 0, 0, 0, 1, 1, 0, 1, 0, 0, 0, 0, 0, 0, 2, 0, 2, 1, 2, 0, 1, 1, 1, 1, 2, 2, 1, 1, 2, 1, 0, 0, 0, 2, 2, 0, 2, 0, 1, 0, 0, 1, 1, 2, 0, 1, 1, 1, 2, 0, 0, 0, 0, 0, 2, 1, 0, 0, 1, 0, 2, 0, 2, 1, 0, 2, 2]\n",
            "[0, 1, 2, 0, 2, 2, 2, 1, 2, 1, 2, 2, 2, 1, 1, 2, 0, 1, 1, 0, 1, 2, 1, 2, 0, 1, 1, 2, 0, 2, 1, 1, 2, 0, 0, 2, 1, 2, 2, 1, 0, 2, 2, 1, 2, 1, 2, 1, 1, 2, 1, 1, 2, 0, 2, 0, 1, 0, 0, 2, 2, 2, 1, 1, 2, 1, 0, 0, 0, 2, 0, 0, 2, 0, 1, 1, 1, 0, 1, 0, 1, 2, 0, 2, 0, 1, 2, 0, 0, 0, 1, 0, 0, 2, 0, 0, 1, 0, 1, 1, 1, 1, 1, 0, 1, 1, 2, 1, 0, 2, 0, 0, 0, 2, 0, 1, 1, 0, 0, 2, 1, 0, 0, 0, 0, 1, 0, 2, 1, 1, 0, 0, 0, 1, 2, 1, 2, 0, 1, 1, 0, 1, 2, 0, 0, 2, 1, 2, 0, 1, 1, 1, 0, 1, 2, 1, 2, 1, 2, 1, 2, 2, 0, 1, 0, 2, 1, 0, 0, 2, 2, 1, 0, 0, 0, 0, 1, 0, 1, 0, 1, 2, 1, 0, 2, 0, 0, 1, 2, 1, 1, 1, 0, 1, 2, 0, 0, 0, 0, 2, 2, 1, 0, 0, 0, 1, 2, 2, 0, 1, 2, 1, 0, 0, 2, 0, 1, 0, 0, 2, 0, 0, 1, 2, 2, 0, 1, 1, 2, 1, 1, 0, 0, 0, 0, 2, 2, 1, 0, 2, 0, 1, 0, 2, 0, 0, 2, 0, 2, 1, 2, 2, 2, 1, 1, 1, 0, 0, 0, 2, 1, 0, 2, 1, 0, 2, 2, 2, 2, 1, 1, 0, 2, 2, 0, 1, 0, 1, 1, 2, 2, 0, 2, 0, 1, 0, 0, 1, 1, 0, 1, 0, 1, 2, 2, 1, 1, 1, 2, 1, 0, 0, 2, 1, 2, 2, 1, 2, 1, 1, 0, 1, 0, 1, 1, 2, 2, 0, 1, 2, 2, 0, 2, 1, 0, 2, 1, 2, 2, 2, 1, 1, 1, 2, 0, 2, 1, 1, 0, 1, 0, 1, 0, 0, 2, 0, 1, 1, 1, 0, 1, 2, 1, 2, 0, 1, 2, 1, 2, 1, 2, 2, 0, 0, 0, 2, 0, 2, 1, 1, 2, 1, 1, 1, 1, 0, 0, 2, 0, 2, 1, 1, 2, 2, 0, 0, 0, 2, 1, 2, 0, 1, 0, 1, 0, 1, 1, 1, 1, 0, 2, 0, 1, 0, 0, 1, 1, 0, 1, 0, 2, 2, 0, 1, 2, 0, 0, 1, 2, 0, 2, 1, 0, 2, 1, 0, 0, 1, 1, 2, 1, 2, 2, 0, 0, 0, 0, 1, 1, 1, 2, 1, 0, 2, 1, 0, 2, 2, 1, 2, 2, 1, 1, 1, 0, 1, 2, 1, 2, 0, 2, 2, 2, 2, 1, 0, 1, 2, 2, 0, 0, 0, 0, 2, 2, 0, 1, 2, 0, 2, 1, 1, 0, 2, 1, 1, 0, 2, 2, 2, 1, 0, 0, 0, 2, 2, 0, 0, 0, 0, 0, 1, 2, 0, 2, 1, 2, 2, 0, 0, 2, 0, 2, 0, 0, 1, 2, 0, 2, 0, 2, 0, 2, 1, 1, 1, 1, 1, 0, 2, 1, 2, 2, 1, 2, 2, 0, 0, 0, 2, 0, 0, 1, 2, 0, 0, 0, 2, 1, 2, 2, 1, 1, 1, 1, 2, 1, 1, 0, 0, 2, 1, 1, 2, 0, 0, 0, 0, 1, 2, 1, 1, 0, 2, 2, 2, 1, 2, 1, 2, 1, 0, 2, 1, 1, 2, 1, 2, 0, 1, 0, 1, 0, 0, 1, 1, 0, 2, 0, 2, 2, 1, 2, 2, 1, 1, 0, 2, 0, 1, 1, 1, 2, 1, 0, 2, 2, 1, 2, 0, 1, 0, 0, 0, 0, 2, 1, 2, 1, 0, 0, 2, 0, 1, 2, 2, 0, 0, 2, 1, 1, 0, 1, 2, 0, 0, 2, 0, 1, 1, 0, 0, 2, 0, 2, 2, 1, 1, 2, 1, 1, 2, 1, 2, 0, 0, 2, 2, 2, 1, 2, 2, 0, 1, 1, 1, 0, 0, 1, 0, 0, 0, 0, 2, 2, 1, 0, 1, 1, 1, 0, 1, 1, 0, 2, 1, 2, 0, 1, 2, 0, 0, 1, 1, 2, 0, 1, 2, 0, 2, 2, 0, 0, 2, 1, 2, 1, 0, 2, 1, 1, 2, 2, 2, 1, 1, 0, 2, 2, 0, 2, 2, 0, 0, 1, 2, 0, 2, 2, 0, 1, 2, 2, 2, 2, 2, 0, 2, 2, 0, 1, 1, 1, 0, 0, 0, 2, 2, 2, 2, 0, 2, 1, 2, 0, 2, 2, 1, 1, 0, 0, 2, 2, 1, 1, 0, 2, 1, 1, 2, 1, 0, 1, 0, 1, 2, 0, 0, 1, 2, 1, 2, 2, 1, 2, 1, 1, 2, 2, 2, 0, 1, 2, 1, 1, 0, 1, 1, 0, 1, 1, 2, 2, 0, 2, 0, 0, 0, 0, 2, 1, 2, 0, 2, 0, 1, 0, 2, 2, 0, 2, 2, 0, 2, 0, 1, 2, 2, 0, 1, 2, 1, 1, 0, 1, 2, 0, 1, 0, 2, 2, 2, 0, 1, 2, 2, 0, 2, 1, 2, 0, 0, 0, 0, 1, 2, 1, 0, 2, 2]\n",
            "Accuracy: 0.5620689655172414\n",
            "Macro F1: 0.5597747632892675\n",
            "Micro F1: 0.5597747632892675\n"
          ]
        }
      ]
    },
    {
      "cell_type": "code",
      "source": [
        "trainer = Trainer(\n",
        "   model=model,\n",
        "   args=training_args,\n",
        "   train_dataset=sp_tokenized_train,\n",
        "   eval_dataset=sp_tokenized_test,\n",
        "   tokenizer=tokenizer,\n",
        "   data_collator=data_collator,\n",
        "   compute_metrics=compute_metrics,\n",
        ")\n",
        "trainer.evaluate()"
      ],
      "metadata": {
        "colab": {
          "base_uri": "https://localhost:8080/",
          "height": 307
        },
        "id": "aKVU6kedcunt",
        "outputId": "e8f8fe88-8c8f-445d-83ec-2e31cebb2454"
      },
      "execution_count": null,
      "outputs": [
        {
          "output_type": "display_data",
          "data": {
            "text/plain": [
              "<IPython.core.display.HTML object>"
            ],
            "text/html": [
              "\n",
              "    <div>\n",
              "      \n",
              "      <progress value='55' max='55' style='width:300px; height:20px; vertical-align: middle;'></progress>\n",
              "      [55/55 00:02]\n",
              "    </div>\n",
              "    "
            ]
          },
          "metadata": {}
        },
        {
          "output_type": "stream",
          "name": "stderr",
          "text": [
            "/usr/local/lib/python3.10/dist-packages/datasets/load.py:759: FutureWarning: The repository for accuracy contains custom code which must be executed to correctly load the metric. You can inspect the repository content at https://raw.githubusercontent.com/huggingface/datasets/2.19.1/metrics/accuracy/accuracy.py\n",
            "You can avoid this message in future by passing the argument `trust_remote_code=True`.\n",
            "Passing `trust_remote_code=True` will be mandatory to load this metric from the next major release of `datasets`.\n",
            "  warnings.warn(\n",
            "/usr/local/lib/python3.10/dist-packages/datasets/load.py:759: FutureWarning: The repository for f1 contains custom code which must be executed to correctly load the metric. You can inspect the repository content at https://raw.githubusercontent.com/huggingface/datasets/2.19.1/metrics/f1/f1.py\n",
            "You can avoid this message in future by passing the argument `trust_remote_code=True`.\n",
            "Passing `trust_remote_code=True` will be mandatory to load this metric from the next major release of `datasets`.\n",
            "  warnings.warn(\n"
          ]
        },
        {
          "output_type": "execute_result",
          "data": {
            "text/plain": [
              "{'eval_loss': 0.8078656792640686,\n",
              " 'eval_accuracy': 0.6459770114942529,\n",
              " 'eval_f1': 0.6400475915414066,\n",
              " 'eval_runtime': 3.7183,\n",
              " 'eval_samples_per_second': 233.976,\n",
              " 'eval_steps_per_second': 14.792}"
            ]
          },
          "metadata": {},
          "execution_count": 11
        }
      ]
    },
    {
      "cell_type": "code",
      "source": [
        "trainer = Trainer(\n",
        "   model=model,\n",
        "   args=training_args,\n",
        "   train_dataset=jp_tokenized_train,\n",
        "   eval_dataset=jp_tokenized_test,\n",
        "   tokenizer=tokenizer,\n",
        "   data_collator=data_collator,\n",
        "   compute_metrics=compute_metrics,\n",
        ")\n",
        "trainer.evaluate()"
      ],
      "metadata": {
        "colab": {
          "base_uri": "https://localhost:8080/",
          "height": 307
        },
        "id": "Hd5WKYXucw61",
        "outputId": "7eeb30d0-0fc7-45c6-cd93-526b5acec8b5"
      },
      "execution_count": null,
      "outputs": [
        {
          "output_type": "display_data",
          "data": {
            "text/plain": [
              "<IPython.core.display.HTML object>"
            ],
            "text/html": [
              "\n",
              "    <div>\n",
              "      \n",
              "      <progress value='63' max='63' style='width:300px; height:20px; vertical-align: middle;'></progress>\n",
              "      [63/63 00:10]\n",
              "    </div>\n",
              "    "
            ]
          },
          "metadata": {}
        },
        {
          "output_type": "stream",
          "name": "stderr",
          "text": [
            "/usr/local/lib/python3.10/dist-packages/datasets/load.py:759: FutureWarning: The repository for accuracy contains custom code which must be executed to correctly load the metric. You can inspect the repository content at https://raw.githubusercontent.com/huggingface/datasets/2.19.1/metrics/accuracy/accuracy.py\n",
            "You can avoid this message in future by passing the argument `trust_remote_code=True`.\n",
            "Passing `trust_remote_code=True` will be mandatory to load this metric from the next major release of `datasets`.\n",
            "  warnings.warn(\n",
            "/usr/local/lib/python3.10/dist-packages/datasets/load.py:759: FutureWarning: The repository for f1 contains custom code which must be executed to correctly load the metric. You can inspect the repository content at https://raw.githubusercontent.com/huggingface/datasets/2.19.1/metrics/f1/f1.py\n",
            "You can avoid this message in future by passing the argument `trust_remote_code=True`.\n",
            "Passing `trust_remote_code=True` will be mandatory to load this metric from the next major release of `datasets`.\n",
            "  warnings.warn(\n"
          ]
        },
        {
          "output_type": "execute_result",
          "data": {
            "text/plain": [
              "{'eval_loss': 0.5997752547264099,\n",
              " 'eval_accuracy': 0.735,\n",
              " 'eval_f1': 0.7277418772316994,\n",
              " 'eval_runtime': 11.5201,\n",
              " 'eval_samples_per_second': 86.805,\n",
              " 'eval_steps_per_second': 5.469}"
            ]
          },
          "metadata": {},
          "execution_count": 12
        }
      ]
    },
    {
      "cell_type": "code",
      "source": [
        "trainer = Trainer(\n",
        "   model=model,\n",
        "   args=training_args,\n",
        "   train_dataset=cn_tokenized_train,\n",
        "   eval_dataset=cn_tokenized_test,\n",
        "   tokenizer=tokenizer,\n",
        "   data_collator=data_collator,\n",
        "   compute_metrics=compute_metrics,\n",
        ")\n",
        "trainer.evaluate()"
      ],
      "metadata": {
        "colab": {
          "base_uri": "https://localhost:8080/",
          "height": 307
        },
        "id": "pSA3wj3Nczxb",
        "outputId": "fe8c801b-377f-4c07-ac25-b90f35242ebd"
      },
      "execution_count": null,
      "outputs": [
        {
          "output_type": "display_data",
          "data": {
            "text/plain": [
              "<IPython.core.display.HTML object>"
            ],
            "text/html": [
              "\n",
              "    <div>\n",
              "      \n",
              "      <progress value='63' max='63' style='width:300px; height:20px; vertical-align: middle;'></progress>\n",
              "      [63/63 00:06]\n",
              "    </div>\n",
              "    "
            ]
          },
          "metadata": {}
        },
        {
          "output_type": "stream",
          "name": "stderr",
          "text": [
            "/usr/local/lib/python3.10/dist-packages/datasets/load.py:759: FutureWarning: The repository for accuracy contains custom code which must be executed to correctly load the metric. You can inspect the repository content at https://raw.githubusercontent.com/huggingface/datasets/2.19.1/metrics/accuracy/accuracy.py\n",
            "You can avoid this message in future by passing the argument `trust_remote_code=True`.\n",
            "Passing `trust_remote_code=True` will be mandatory to load this metric from the next major release of `datasets`.\n",
            "  warnings.warn(\n",
            "/usr/local/lib/python3.10/dist-packages/datasets/load.py:759: FutureWarning: The repository for f1 contains custom code which must be executed to correctly load the metric. You can inspect the repository content at https://raw.githubusercontent.com/huggingface/datasets/2.19.1/metrics/f1/f1.py\n",
            "You can avoid this message in future by passing the argument `trust_remote_code=True`.\n",
            "Passing `trust_remote_code=True` will be mandatory to load this metric from the next major release of `datasets`.\n",
            "  warnings.warn(\n"
          ]
        },
        {
          "output_type": "execute_result",
          "data": {
            "text/plain": [
              "{'eval_loss': 0.5439351797103882,\n",
              " 'eval_accuracy': 0.784,\n",
              " 'eval_f1': 0.7854031134380772,\n",
              " 'eval_runtime': 8.3188,\n",
              " 'eval_samples_per_second': 120.21,\n",
              " 'eval_steps_per_second': 7.573}"
            ]
          },
          "metadata": {},
          "execution_count": 13
        }
      ]
    },
    {
      "cell_type": "code",
      "source": [
        "print(en_tokenized_test['label'])"
      ],
      "metadata": {
        "colab": {
          "base_uri": "https://localhost:8080/"
        },
        "id": "j9Xpc3rWeMgP",
        "outputId": "e8edc337-643a-499a-9051-2d0c03b650b1"
      },
      "execution_count": null,
      "outputs": [
        {
          "output_type": "stream",
          "name": "stdout",
          "text": [
            "[0, 1, 2, 0, 2, 2, 2, 1, 2, 1, 2, 2, 2, 1, 1, 2, 0, 1, 1, 0, 1, 2, 1, 2, 0, 1, 1, 2, 0, 2, 1, 1, 2, 0, 0, 2, 1, 2, 2, 1, 0, 2, 2, 1, 2, 1, 2, 1, 1, 2, 1, 1, 2, 0, 2, 0, 1, 0, 0, 2, 2, 2, 1, 1, 2, 1, 0, 0, 0, 2, 0, 0, 2, 0, 1, 1, 1, 0, 1, 0, 1, 2, 0, 2, 0, 1, 2, 0, 0, 0, 1, 0, 0, 2, 0, 0, 1, 0, 1, 1, 1, 1, 1, 0, 1, 1, 2, 1, 0, 2, 0, 0, 0, 2, 0, 1, 1, 0, 0, 2, 1, 0, 0, 0, 0, 1, 0, 2, 1, 1, 0, 0, 0, 1, 2, 1, 2, 0, 1, 1, 0, 1, 2, 0, 0, 2, 1, 2, 0, 1, 1, 1, 0, 1, 2, 1, 2, 1, 2, 1, 2, 2, 0, 1, 0, 2, 1, 0, 0, 2, 2, 1, 0, 0, 0, 0, 1, 0, 1, 0, 1, 2, 1, 0, 2, 0, 0, 1, 2, 1, 1, 1, 0, 1, 2, 0, 0, 0, 0, 2, 2, 1, 0, 0, 0, 1, 2, 2, 0, 1, 2, 1, 0, 0, 2, 0, 1, 0, 0, 2, 0, 0, 1, 2, 2, 0, 1, 1, 2, 1, 1, 0, 0, 0, 0, 2, 2, 1, 0, 2, 0, 1, 0, 2, 0, 0, 2, 0, 2, 1, 2, 2, 2, 1, 1, 1, 0, 0, 0, 2, 1, 0, 2, 1, 0, 2, 2, 2, 2, 1, 1, 0, 2, 2, 0, 1, 0, 1, 1, 2, 2, 0, 2, 0, 1, 0, 0, 1, 1, 0, 1, 0, 1, 2, 2, 1, 1, 1, 2, 1, 0, 0, 2, 1, 2, 2, 1, 2, 1, 1, 0, 1, 0, 1, 1, 2, 2, 0, 1, 2, 2, 0, 2, 1, 0, 2, 1, 2, 2, 2, 1, 1, 1, 2, 0, 2, 1, 1, 0, 1, 0, 1, 0, 0, 2, 0, 1, 1, 1, 0, 1, 2, 1, 2, 0, 1, 2, 1, 2, 1, 2, 2, 0, 0, 0, 2, 0, 2, 1, 1, 2, 1, 1, 1, 1, 0, 0, 2, 0, 2, 1, 1, 2, 2, 0, 0, 0, 2, 1, 2, 0, 1, 0, 1, 0, 1, 1, 1, 1, 0, 2, 0, 1, 0, 0, 1, 1, 0, 1, 0, 2, 2, 0, 1, 2, 0, 0, 1, 2, 0, 2, 1, 0, 2, 1, 0, 0, 1, 1, 2, 1, 2, 2, 0, 0, 0, 0, 1, 1, 1, 2, 1, 0, 2, 1, 0, 2, 2, 1, 2, 2, 1, 1, 1, 0, 1, 2, 1, 2, 0, 2, 2, 2, 2, 1, 0, 1, 2, 2, 0, 0, 0, 0, 2, 2, 0, 1, 2, 0, 2, 1, 1, 0, 2, 1, 1, 0, 2, 2, 2, 1, 0, 0, 0, 2, 2, 0, 0, 0, 0, 0, 1, 2, 0, 2, 1, 2, 2, 0, 0, 2, 0, 2, 0, 0, 1, 2, 0, 2, 0, 2, 0, 2, 1, 1, 1, 1, 1, 0, 2, 1, 2, 2, 1, 2, 2, 0, 0, 0, 2, 0, 0, 1, 2, 0, 0, 0, 2, 1, 2, 2, 1, 1, 1, 1, 2, 1, 1, 0, 0, 2, 1, 1, 2, 0, 0, 0, 0, 1, 2, 1, 1, 0, 2, 2, 2, 1, 2, 1, 2, 1, 0, 2, 1, 1, 2, 1, 2, 0, 1, 0, 1, 0, 0, 1, 1, 0, 2, 0, 2, 2, 1, 2, 2, 1, 1, 0, 2, 0, 1, 1, 1, 2, 1, 0, 2, 2, 1, 2, 0, 1, 0, 0, 0, 0, 2, 1, 2, 1, 0, 0, 2, 0, 1, 2, 2, 0, 0, 2, 1, 1, 0, 1, 2, 0, 0, 2, 0, 1, 1, 0, 0, 2, 0, 2, 2, 1, 1, 2, 1, 1, 2, 1, 2, 0, 0, 2, 2, 2, 1, 2, 2, 0, 1, 1, 1, 0, 0, 1, 0, 0, 0, 0, 2, 2, 1, 0, 1, 1, 1, 0, 1, 1, 0, 2, 1, 2, 0, 1, 2, 0, 0, 1, 1, 2, 0, 1, 2, 0, 2, 2, 0, 0, 2, 1, 2, 1, 0, 2, 1, 1, 2, 2, 2, 1, 1, 0, 2, 2, 0, 2, 2, 0, 0, 1, 2, 0, 2, 2, 0, 1, 2, 2, 2, 2, 2, 0, 2, 2, 0, 1, 1, 1, 0, 0, 0, 2, 2, 2, 2, 0, 2, 1, 2, 0, 2, 2, 1, 1, 0, 0, 2, 2, 1, 1, 0, 2, 1, 1, 2, 1, 0, 1, 0, 1, 2, 0, 0, 1, 2, 1, 2, 2, 1, 2, 1, 1, 2, 2, 2, 0, 1, 2, 1, 1, 0, 1, 1, 0, 1, 1, 2, 2, 0, 2, 0, 0, 0, 0, 2, 1, 2, 0, 2, 0, 1, 0, 2, 2, 0, 2, 2, 0, 2, 0, 1, 2, 2, 0, 1, 2, 1, 1, 0, 1, 2, 0, 1, 0, 2, 2, 2, 0, 1, 2, 2, 0, 2, 1, 2, 0, 0, 0, 0, 1, 2, 1, 0, 2, 2]\n"
          ]
        }
      ]
    },
    {
      "cell_type": "code",
      "source": [],
      "metadata": {
        "id": "dQ1gVmLbfP_K"
      },
      "execution_count": null,
      "outputs": []
    }
  ]
}